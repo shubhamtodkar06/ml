{
 "cells": [
  {
   "cell_type": "code",
   "execution_count": null,
   "id": "1d73d7a1-98a8-49a6-8c0a-824df0251516",
   "metadata": {},
   "outputs": [],
   "source": [
    "import pandas as pd"
   ]
  },
  {
   "cell_type": "code",
   "execution_count": null,
   "id": "da3f7111-ad36-42cc-8b89-14063ff520b9",
   "metadata": {},
   "outputs": [],
   "source": [
    "df = pd.read_csv('mall.csv')"
   ]
  },
  {
   "cell_type": "code",
   "execution_count": null,
   "id": "7001cdfd-0a85-4cf1-9aae-e427b51dd08c",
   "metadata": {},
   "outputs": [],
   "source": [
    "df.head()"
   ]
  },
  {
   "cell_type": "code",
   "execution_count": null,
   "id": "8cd73dc2-534e-45b3-be64-416ea98ab8de",
   "metadata": {},
   "outputs": [],
   "source": [
    "x = df[['Annual Income (k$)','Spending Score (1-100)']]"
   ]
  },
  {
   "cell_type": "code",
   "execution_count": null,
   "id": "3695efe8-165b-4dcf-90b7-7e92ed0cba67",
   "metadata": {},
   "outputs": [],
   "source": [
    "import matplotlib.pyplot as plt"
   ]
  },
  {
   "cell_type": "code",
   "execution_count": null,
   "id": "a8e1a2bd-87bf-470a-a4da-a9649b1fabd6",
   "metadata": {},
   "outputs": [],
   "source": [
    "plt.xlabel('spending')\n",
    "plt.ylabel('annual')\n",
    "plt.scatter(x['Annual Income (k$)'],x['Spending Score (1-100)'])"
   ]
  },
  {
   "cell_type": "code",
   "execution_count": null,
   "id": "6c3a335f-2ba5-410e-9d99-a37a4232a293",
   "metadata": {},
   "outputs": [],
   "source": [
    "from sklearn.cluster import AgglomerativeClustering"
   ]
  },
  {
   "cell_type": "code",
   "execution_count": null,
   "id": "dbcd3751-3114-4c2e-b0b1-22400fc24126",
   "metadata": {},
   "outputs": [],
   "source": [
    "silh = []"
   ]
  },
  {
   "cell_type": "code",
   "execution_count": null,
   "id": "22514c18-9a7e-4819-93ad-0b9c499ca228",
   "metadata": {},
   "outputs": [],
   "source": [
    "from sklearn.metrics import silhouette_score"
   ]
  },
  {
   "cell_type": "code",
   "execution_count": null,
   "id": "8ff78379-a524-4327-958a-33e54898fc95",
   "metadata": {},
   "outputs": [],
   "source": [
    "for i in range(2,10):\n",
    "    aggl = AgglomerativeClustering(n_clusters=i)\n",
    "    labels = aggl.fit_predict(x)\n",
    "    score = silhouette_score(x,labels)\n",
    "    silh.append(score)"
   ]
  },
  {
   "cell_type": "code",
   "execution_count": null,
   "id": "d9e6c722-bd09-4b54-a761-d97db3410514",
   "metadata": {},
   "outputs": [],
   "source": [
    "plt.xlabel('clusters')\n",
    "plt.ylabel('silh')\n",
    "plt.bar(range(2,10),silh)"
   ]
  },
  {
   "cell_type": "code",
   "execution_count": null,
   "id": "ce158e56-5235-41e8-a643-fbc5db09600d",
   "metadata": {},
   "outputs": [],
   "source": [
    "agl = AgglomerativeClustering(n_clusters=5)\n",
    "labels = agl.fit_predict(x)\n"
   ]
  },
  {
   "cell_type": "code",
   "execution_count": null,
   "id": "1a7da58f-5f6a-4c90-b26a-5eed10785c02",
   "metadata": {},
   "outputs": [],
   "source": [
    "plt.xlabel('annual')\n",
    "plt.ylabel('spending')\n",
    "plt.scatter(x['Annual Income (k$)'],x['Spending Score (1-100)'],c=labels)"
   ]
  },
  {
   "cell_type": "code",
   "execution_count": null,
   "id": "8b7962c9-2ab1-411c-a321-4be886e1536e",
   "metadata": {},
   "outputs": [],
   "source": []
  }
 ],
 "metadata": {
  "kernelspec": {
   "display_name": "Python 3 (ipykernel)",
   "language": "python",
   "name": "python3"
  },
  "language_info": {
   "codemirror_mode": {
    "name": "ipython",
    "version": 3
   },
   "file_extension": ".py",
   "mimetype": "text/x-python",
   "name": "python",
   "nbconvert_exporter": "python",
   "pygments_lexer": "ipython3",
   "version": "3.11.7"
  }
 },
 "nbformat": 4,
 "nbformat_minor": 5
}
